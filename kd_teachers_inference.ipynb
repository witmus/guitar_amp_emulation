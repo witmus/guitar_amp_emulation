{
 "cells": [
  {
   "cell_type": "code",
   "execution_count": null,
   "id": "a207cb83",
   "metadata": {},
   "outputs": [],
   "source": [
    "import numpy as np\n",
    "import torch\n",
    "from sklearn.model_selection import RepeatedKFold\n",
    "\n",
    "from audio import get_clean_tensor,get_crunch_tensor, get_lstm_teacher_tensor, get_wavenet_teacher_tensor\n",
    "from train import train\n",
    "from models import WindowLSTM\n",
    "from wavenet import WaveNet\n",
    "import styles_ranges as sr\n",
    "from windows import get_sw_dataloader, get_wavenet_dataloader"
   ]
  },
  {
   "cell_type": "code",
   "execution_count": null,
   "id": "f098a342",
   "metadata": {},
   "outputs": [],
   "source": [
    "lstm_channels = 24\n",
    "lstm_kernel_size = 11\n",
    "lstm_stride = 1\n",
    "lstm_hidden_size = 128\n",
    "lstm_layers = 1\n",
    "lstm_window_size = 2000\n",
    "lstm_batch_size = 600\n",
    "\n",
    "wn_steps = 4000\n",
    "wn_batch_size = 5\n",
    "wn_channels = 32\n",
    "wn_dilation_depth = 8\n",
    "wn_repeats = 4\n",
    "wn_kernel_size = 3"
   ]
  },
  {
   "cell_type": "code",
   "execution_count": null,
   "id": "44f1fd13",
   "metadata": {},
   "outputs": [],
   "source": [
    "data_start = sr.SINGLES_RING_OUT_START\n",
    "data_end = sr.SINGLES_RING_OUT_END\n",
    "\n",
    "data_samples = int(44_100 * (data_end - data_start))"
   ]
  },
  {
   "cell_type": "code",
   "execution_count": 24,
   "id": "aa8afe43",
   "metadata": {},
   "outputs": [],
   "source": [
    "dry = get_clean_tensor()\n",
    "crunch = get_crunch_tensor()\n",
    "\n",
    "x = dry[data_start:data_end]\n",
    "y = crunch[data_start:data_end]"
   ]
  },
  {
   "cell_type": "code",
   "execution_count": null,
   "id": "253b5f1d",
   "metadata": {},
   "outputs": [],
   "source": [
    "lstm_teacher_path = 'models/knowledge_distillation/teachers/lstm_checkpoint_19.pth'\n",
    "wavenet_teacher_path = 'models/knowledge_distillation/teachers/wavenet_checkpoint_19.pth'"
   ]
  },
  {
   "cell_type": "code",
   "execution_count": null,
   "id": "0139a8c3",
   "metadata": {},
   "outputs": [
    {
     "data": {
      "text/plain": [
       "WaveNet(\n",
       "  (convs_sigm): ModuleList(\n",
       "    (0): Conv1d(1, 16, kernel_size=(3,), stride=(1,))\n",
       "    (1): Conv1d(16, 16, kernel_size=(3,), stride=(1,), dilation=(2,))\n",
       "    (2): Conv1d(16, 16, kernel_size=(3,), stride=(1,), dilation=(4,))\n",
       "    (3): Conv1d(16, 16, kernel_size=(3,), stride=(1,), dilation=(8,))\n",
       "    (4): Conv1d(16, 16, kernel_size=(3,), stride=(1,), dilation=(16,))\n",
       "    (5): Conv1d(16, 16, kernel_size=(3,), stride=(1,), dilation=(32,))\n",
       "    (6): Conv1d(16, 16, kernel_size=(3,), stride=(1,), dilation=(64,))\n",
       "    (7): Conv1d(16, 16, kernel_size=(3,), stride=(1,), dilation=(128,))\n",
       "    (8): Conv1d(16, 16, kernel_size=(3,), stride=(1,))\n",
       "    (9): Conv1d(16, 16, kernel_size=(3,), stride=(1,), dilation=(2,))\n",
       "    (10): Conv1d(16, 16, kernel_size=(3,), stride=(1,), dilation=(4,))\n",
       "    (11): Conv1d(16, 16, kernel_size=(3,), stride=(1,), dilation=(8,))\n",
       "    (12): Conv1d(16, 16, kernel_size=(3,), stride=(1,), dilation=(16,))\n",
       "    (13): Conv1d(16, 16, kernel_size=(3,), stride=(1,), dilation=(32,))\n",
       "    (14): Conv1d(16, 16, kernel_size=(3,), stride=(1,), dilation=(64,))\n",
       "    (15): Conv1d(16, 16, kernel_size=(3,), stride=(1,), dilation=(128,))\n",
       "    (16): Conv1d(16, 16, kernel_size=(3,), stride=(1,))\n",
       "    (17): Conv1d(16, 16, kernel_size=(3,), stride=(1,), dilation=(2,))\n",
       "    (18): Conv1d(16, 16, kernel_size=(3,), stride=(1,), dilation=(4,))\n",
       "    (19): Conv1d(16, 16, kernel_size=(3,), stride=(1,), dilation=(8,))\n",
       "    (20): Conv1d(16, 16, kernel_size=(3,), stride=(1,), dilation=(16,))\n",
       "    (21): Conv1d(16, 16, kernel_size=(3,), stride=(1,), dilation=(32,))\n",
       "    (22): Conv1d(16, 16, kernel_size=(3,), stride=(1,), dilation=(64,))\n",
       "    (23): Conv1d(16, 16, kernel_size=(3,), stride=(1,), dilation=(128,))\n",
       "  )\n",
       "  (convs_tanh): ModuleList(\n",
       "    (0): Conv1d(1, 16, kernel_size=(3,), stride=(1,))\n",
       "    (1): Conv1d(16, 16, kernel_size=(3,), stride=(1,), dilation=(2,))\n",
       "    (2): Conv1d(16, 16, kernel_size=(3,), stride=(1,), dilation=(4,))\n",
       "    (3): Conv1d(16, 16, kernel_size=(3,), stride=(1,), dilation=(8,))\n",
       "    (4): Conv1d(16, 16, kernel_size=(3,), stride=(1,), dilation=(16,))\n",
       "    (5): Conv1d(16, 16, kernel_size=(3,), stride=(1,), dilation=(32,))\n",
       "    (6): Conv1d(16, 16, kernel_size=(3,), stride=(1,), dilation=(64,))\n",
       "    (7): Conv1d(16, 16, kernel_size=(3,), stride=(1,), dilation=(128,))\n",
       "    (8): Conv1d(16, 16, kernel_size=(3,), stride=(1,))\n",
       "    (9): Conv1d(16, 16, kernel_size=(3,), stride=(1,), dilation=(2,))\n",
       "    (10): Conv1d(16, 16, kernel_size=(3,), stride=(1,), dilation=(4,))\n",
       "    (11): Conv1d(16, 16, kernel_size=(3,), stride=(1,), dilation=(8,))\n",
       "    (12): Conv1d(16, 16, kernel_size=(3,), stride=(1,), dilation=(16,))\n",
       "    (13): Conv1d(16, 16, kernel_size=(3,), stride=(1,), dilation=(32,))\n",
       "    (14): Conv1d(16, 16, kernel_size=(3,), stride=(1,), dilation=(64,))\n",
       "    (15): Conv1d(16, 16, kernel_size=(3,), stride=(1,), dilation=(128,))\n",
       "    (16): Conv1d(16, 16, kernel_size=(3,), stride=(1,))\n",
       "    (17): Conv1d(16, 16, kernel_size=(3,), stride=(1,), dilation=(2,))\n",
       "    (18): Conv1d(16, 16, kernel_size=(3,), stride=(1,), dilation=(4,))\n",
       "    (19): Conv1d(16, 16, kernel_size=(3,), stride=(1,), dilation=(8,))\n",
       "    (20): Conv1d(16, 16, kernel_size=(3,), stride=(1,), dilation=(16,))\n",
       "    (21): Conv1d(16, 16, kernel_size=(3,), stride=(1,), dilation=(32,))\n",
       "    (22): Conv1d(16, 16, kernel_size=(3,), stride=(1,), dilation=(64,))\n",
       "    (23): Conv1d(16, 16, kernel_size=(3,), stride=(1,), dilation=(128,))\n",
       "  )\n",
       "  (residuals): ModuleList(\n",
       "    (0): Conv1d(16, 16, kernel_size=(1,), stride=(1,))\n",
       "    (1): Conv1d(16, 16, kernel_size=(1,), stride=(1,), dilation=(2,))\n",
       "    (2): Conv1d(16, 16, kernel_size=(1,), stride=(1,), dilation=(4,))\n",
       "    (3): Conv1d(16, 16, kernel_size=(1,), stride=(1,), dilation=(8,))\n",
       "    (4): Conv1d(16, 16, kernel_size=(1,), stride=(1,), dilation=(16,))\n",
       "    (5): Conv1d(16, 16, kernel_size=(1,), stride=(1,), dilation=(32,))\n",
       "    (6): Conv1d(16, 16, kernel_size=(1,), stride=(1,), dilation=(64,))\n",
       "    (7): Conv1d(16, 16, kernel_size=(1,), stride=(1,), dilation=(128,))\n",
       "    (8): Conv1d(16, 16, kernel_size=(1,), stride=(1,))\n",
       "    (9): Conv1d(16, 16, kernel_size=(1,), stride=(1,), dilation=(2,))\n",
       "    (10): Conv1d(16, 16, kernel_size=(1,), stride=(1,), dilation=(4,))\n",
       "    (11): Conv1d(16, 16, kernel_size=(1,), stride=(1,), dilation=(8,))\n",
       "    (12): Conv1d(16, 16, kernel_size=(1,), stride=(1,), dilation=(16,))\n",
       "    (13): Conv1d(16, 16, kernel_size=(1,), stride=(1,), dilation=(32,))\n",
       "    (14): Conv1d(16, 16, kernel_size=(1,), stride=(1,), dilation=(64,))\n",
       "    (15): Conv1d(16, 16, kernel_size=(1,), stride=(1,), dilation=(128,))\n",
       "    (16): Conv1d(16, 16, kernel_size=(1,), stride=(1,))\n",
       "    (17): Conv1d(16, 16, kernel_size=(1,), stride=(1,), dilation=(2,))\n",
       "    (18): Conv1d(16, 16, kernel_size=(1,), stride=(1,), dilation=(4,))\n",
       "    (19): Conv1d(16, 16, kernel_size=(1,), stride=(1,), dilation=(8,))\n",
       "    (20): Conv1d(16, 16, kernel_size=(1,), stride=(1,), dilation=(16,))\n",
       "    (21): Conv1d(16, 16, kernel_size=(1,), stride=(1,), dilation=(32,))\n",
       "    (22): Conv1d(16, 16, kernel_size=(1,), stride=(1,), dilation=(64,))\n",
       "    (23): Conv1d(16, 16, kernel_size=(1,), stride=(1,), dilation=(128,))\n",
       "  )\n",
       "  (linear_mix): Conv1d(384, 1, kernel_size=(1,), stride=(1,))\n",
       ")"
      ]
     },
     "execution_count": 5,
     "metadata": {},
     "output_type": "execute_result"
    }
   ],
   "source": [
    "lstm_teacher = WindowLSTM(\n",
    "    n_conv_outs=lstm_channels,\n",
    "    s_kernel=lstm_kernel_size,\n",
    "    n_stride=lstm_stride,\n",
    "    n_hidden=lstm_hidden_size,\n",
    "    n_layers=lstm_layers\n",
    ")\n",
    "\n",
    "lstm_teacher.load_state_dict(\n",
    "    torch.load(lstm_teacher_path,weights_only=True)\n",
    ")\n",
    "\n",
    "wavenet_teacher = WaveNet(\n",
    "    num_channels=wn_channels,\n",
    "    dilation_depth=wn_dilation_depth,\n",
    "    num_repeat=wn_repeats,\n",
    "    kernel_size=wn_kernel_size\n",
    ")\n",
    "\n",
    "wavenet_teacher.load_state_dict(\n",
    "    torch.load(wavenet_teacher_path,weights_only=True)\n",
    ")\n",
    "\n",
    "lstm_teacher.eval()\n",
    "wavenet_teacher.eval()"
   ]
  },
  {
   "cell_type": "code",
   "execution_count": null,
   "id": "8bbc96c2",
   "metadata": {},
   "outputs": [],
   "source": [
    "lstm_dataloader = get_sw_dataloader(x, lstm_window_size, lstm_batch_size)\n",
    "wavenet_dataloader = get_wavenet_dataloader(x, wn_steps, wn_batch_size)"
   ]
  },
  {
   "cell_type": "code",
   "execution_count": 7,
   "id": "5b6e0b6e",
   "metadata": {},
   "outputs": [
    {
     "name": "stdout",
     "output_type": "stream",
     "text": [
      "torch.Size([4354875])\n",
      "torch.Size([4354476])\n"
     ]
    }
   ],
   "source": [
    "lstm_result = torch.tensor([])\n",
    "\n",
    "with torch.no_grad():\n",
    "    for i,x_t in enumerate(lstm_dataloader):\n",
    "        print(i,'/',len(lstm_dataloader),end='\\r')\n",
    "        pred,_,_ = lstm_teacher(x_t)\n",
    "        lstm_result = torch.concat((lstm_result, pred.detach().flatten()))\n",
    "\n",
    "print(x.shape)\n",
    "print(lstm_result.shape)"
   ]
  },
  {
   "cell_type": "code",
   "execution_count": null,
   "id": "b8335029",
   "metadata": {},
   "outputs": [
    {
     "name": "stdout",
     "output_type": "stream",
     "text": [
      "torch.Size([4354875])\n",
      "torch.Size([4352000])\n"
     ]
    }
   ],
   "source": [
    "wavenet_result = torch.tensor([])\n",
    "\n",
    "with torch.no_grad():\n",
    "    for i,x_t in enumerate(wavenet_dataloader):\n",
    "        print(i+1,'/',len(wavenet_dataloader),end='\\r')\n",
    "        pred = wavenet_teacher(x_t)\n",
    "        pred = pred[:,:,-wn_steps:]\n",
    "        wavenet_result = torch.concat((wavenet_result, pred.detach().flatten()))\n",
    "\n",
    "print(x.shape)\n",
    "print(wavenet_result.shape)"
   ]
  },
  {
   "cell_type": "code",
   "execution_count": 8,
   "id": "ad4eb389",
   "metadata": {},
   "outputs": [],
   "source": [
    "import torchaudio"
   ]
  },
  {
   "cell_type": "code",
   "execution_count": null,
   "id": "34494bab",
   "metadata": {},
   "outputs": [],
   "source": [
    "torchaudio.save('data/samples/processed/wavenet_teacher_result.wav',wavenet_result.unsqueeze(0),44100)"
   ]
  },
  {
   "cell_type": "code",
   "execution_count": null,
   "id": "b8ecc5d7",
   "metadata": {},
   "outputs": [],
   "source": [
    "torchaudio.save('data/samples/processed/lstm_teacher_result.wav',lstm_result.unsqueeze(0),44100)"
   ]
  }
 ],
 "metadata": {
  "kernelspec": {
   "display_name": "env",
   "language": "python",
   "name": "python3"
  },
  "language_info": {
   "codemirror_mode": {
    "name": "ipython",
    "version": 3
   },
   "file_extension": ".py",
   "mimetype": "text/x-python",
   "name": "python",
   "nbconvert_exporter": "python",
   "pygments_lexer": "ipython3",
   "version": "3.12.3"
  }
 },
 "nbformat": 4,
 "nbformat_minor": 5
}
