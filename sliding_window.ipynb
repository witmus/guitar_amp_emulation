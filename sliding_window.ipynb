{
 "cells": [
  {
   "cell_type": "code",
   "execution_count": null,
   "id": "f6a6bd47",
   "metadata": {},
   "outputs": [],
   "source": [
    "import torch\n",
    "import torch.nn as nn\n",
    "import torchaudio\n",
    "from torch.utils.data import DataLoader\n",
    "from typing import Sequence\n",
    "import numpy as np\n",
    "\n",
    "from audio import get_clean_tensor,get_crunch_tensor,get_distortion_tensor,normalize_tensor\n",
    "from utilities import plot_waveform"
   ]
  },
  {
   "cell_type": "code",
   "execution_count": null,
   "id": "2e620d00",
   "metadata": {},
   "outputs": [],
   "source": [
    "dry = get_clean_tensor()\n",
    "dry = normalize_tensor(dry)\n",
    "# plot_waveform(dry)\n",
    "crunch = get_crunch_tensor()\n",
    "# plot_waveform(crunch)\n",
    "distortion = get_distortion_tensor()\n",
    "# plot_waveform(distortion)\n",
    "\n",
    "seconds = 1\n",
    "test_split_ratio = 0.2\n",
    "\n",
    "train_time_seconds = 24\n",
    "val_time_seconds = 6\n",
    "train_samples = 44_100 * train_time_seconds\n",
    "val_samples = 44_100 * val_time_seconds\n",
    "\n",
    "x = dry[0]\n",
    "y = crunch[0]"
   ]
  },
  {
   "cell_type": "code",
   "execution_count": null,
   "id": "06a99092",
   "metadata": {},
   "outputs": [],
   "source": [
    "window_size = 100\n",
    "batch_size = 2000"
   ]
  },
  {
   "cell_type": "code",
   "execution_count": null,
   "id": "479c3cb5",
   "metadata": {},
   "outputs": [],
   "source": [
    "x_train = torch.concat((torch.zeros(window_size - 1),x[:train_samples]))\n",
    "y_train = torch.concat((torch.zeros(window_size - 1),y[:train_samples]))\n",
    "\n",
    "x_val = torch.concat((torch.zeros(window_size - 1), x[train_samples:train_samples+val_samples]))\n",
    "y_val = torch.concat((torch.zeros(window_size - 1), y[train_samples:train_samples+val_samples]))\n",
    "\n",
    "batches = int(x_train.size(0) / batch_size)\n",
    "print(batches)"
   ]
  },
  {
   "cell_type": "code",
   "execution_count": null,
   "id": "f9b801eb",
   "metadata": {},
   "outputs": [],
   "source": [
    "class WindowArray(Sequence):\n",
    "        \n",
    "    def __init__(self, x, y, window_len, batch_size=32):\n",
    "        self.x = x\n",
    "        self.y = y[window_len-1:] \n",
    "        self.window_len = window_len\n",
    "        self.batch_size = batch_size\n",
    "        \n",
    "    def __len__(self):\n",
    "        return (len(self.x) - self.window_len +1) // self.batch_size\n",
    "    \n",
    "    def __getitem__(self, index):\n",
    "        x_out = torch.stack([self.x[idx: idx+self.window_len] for idx in range(index*self.batch_size, (index+1)*self.batch_size)]).view(self.batch_size,self.window_len,-1)\n",
    "        y_out = self.y[index*self.batch_size:(index+1)*self.batch_size].view(-1,1)\n",
    "        return x_out, y_out"
   ]
  },
  {
   "cell_type": "code",
   "execution_count": null,
   "id": "6d07eb1e",
   "metadata": {},
   "outputs": [],
   "source": [
    "a = torch.tensor([1,2,3,4,5,6,7,8,9,10])\n",
    "b = torch.tensor([1,2,3,4,5,6,7,8,9,10])\n",
    "aw = WindowArray(a,b,6,3)\n",
    "abdl = DataLoader(aw)"
   ]
  },
  {
   "cell_type": "code",
   "execution_count": null,
   "id": "c1c6cf4e",
   "metadata": {},
   "outputs": [],
   "source": [
    "train_window = WindowArray(x_train,y_train,window_size,batch_size)\n",
    "val_window = WindowArray(x_val,y_val,window_size,batch_size)"
   ]
  },
  {
   "cell_type": "code",
   "execution_count": null,
   "id": "a1042906",
   "metadata": {},
   "outputs": [],
   "source": [
    "train_loader = DataLoader(train_window)\n",
    "val_loader = DataLoader(val_window)"
   ]
  },
  {
   "cell_type": "code",
   "execution_count": null,
   "id": "cc01ac17",
   "metadata": {},
   "outputs": [],
   "source": [
    "class LSTM(nn.Module):\n",
    "    def __init__(self, n_hidden, n_layers):\n",
    "        super(LSTM, self).__init__()\n",
    "\n",
    "        self.lstm = nn.LSTM(\n",
    "            input_size=1, \n",
    "            hidden_size=n_hidden,\n",
    "            num_layers=n_layers,\n",
    "            batch_first=True\n",
    "        )\n",
    "\n",
    "        self.out = nn.Linear(n_hidden,1)\n",
    "\n",
    "    def forward(self, x, state=None):\n",
    "        r_out, (h_s, c_s) = self.lstm(x, state)\n",
    "        result = self.out(r_out[:,-1,:])\n",
    "        return result, h_s, c_s"
   ]
  },
  {
   "cell_type": "code",
   "execution_count": null,
   "id": "7a043177",
   "metadata": {},
   "outputs": [],
   "source": [
    "from loss import ESRDCLoss\n",
    "\n",
    "epochs = 10\n",
    "\n",
    "rnn = LSTM(64,1)\n",
    "optimizer = torch.optim.Adam(rnn.parameters(),lr=0.01)\n",
    "loss_fn = ESRDCLoss()"
   ]
  },
  {
   "cell_type": "code",
   "execution_count": null,
   "id": "6a8527d8",
   "metadata": {},
   "outputs": [],
   "source": [
    "epochs_losses = []\n",
    "for epoch in range(epochs):\n",
    "    print('epoch: %d' % epoch)\n",
    "    rnn.train()\n",
    "    losses = []\n",
    "    for i,(x_b,y_b) in enumerate(train_loader):\n",
    "        \n",
    "        print('batch: ', i, '/', batches, end='\\r')\n",
    "        pred,_,_ = rnn(x_b[0])\n",
    "        \n",
    "        loss = loss_fn(pred,y_b)\n",
    "        optimizer.zero_grad()\n",
    "        loss.backward()\n",
    "        optimizer.step()\n",
    "\n",
    "        losses.append(loss.item())\n",
    "        print('batch: ', i, '/', batches, ' loss: ', loss.item(), end='\\r')\n",
    "    print()\n",
    "\n",
    "    mean_loss = np.mean(losses)\n",
    "    epochs_losses.append(mean_loss)\n",
    "\n",
    "    rnn.eval()\n",
    "\n",
    "    with torch.no_grad():\n",
    "        val_losses = []\n",
    "        for xv,yv in val_loader:\n",
    "            test,_,_ = rnn(xv[0])\n",
    "            val_loss = loss_fn(test,yv)\n",
    "            val_losses.append(val_loss.item())\n",
    "\n",
    "        epoch_val_loss = np.mean(val_losses)\n",
    "        print('val_loss: ', epoch_val_loss)"
   ]
  }
 ],
 "metadata": {
  "kernelspec": {
   "display_name": "env",
   "language": "python",
   "name": "python3"
  },
  "language_info": {
   "codemirror_mode": {
    "name": "ipython",
    "version": 3
   },
   "file_extension": ".py",
   "mimetype": "text/x-python",
   "name": "python",
   "nbconvert_exporter": "python",
   "pygments_lexer": "ipython3",
   "version": "3.12.3"
  }
 },
 "nbformat": 4,
 "nbformat_minor": 5
}
