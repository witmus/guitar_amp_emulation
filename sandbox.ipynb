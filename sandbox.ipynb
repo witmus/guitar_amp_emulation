{
 "cells": [
  {
   "cell_type": "code",
   "execution_count": null,
   "id": "ffea6c8d",
   "metadata": {},
   "outputs": [],
   "source": [
    "import torch\n",
    "import torch.nn as nn\n",
    "import torchaudio\n",
    "\n",
    "from audio import get_clean_tensor,get_crunch_tensor,get_distortion_tensor,normalize_tensor\n",
    "from utilities import plot_waveform"
   ]
  },
  {
   "cell_type": "code",
   "execution_count": null,
   "id": "f6a6bd47",
   "metadata": {},
   "outputs": [],
   "source": [
    "dry = get_clean_tensor()\n",
    "dry = normalize_tensor(dry)\n",
    "# plot_waveform(dry)\n",
    "crunch = get_crunch_tensor()\n",
    "# plot_waveform(crunch)\n",
    "distortion = get_distortion_tensor()\n",
    "# plot_waveform(distortion)\n",
    "\n",
    "train_time_seconds = 0.04 * 60\n",
    "val_time_seconds = 0.01 * 60\n",
    "train_samples = int(44_100 * train_time_seconds)\n",
    "val_samples = int(44_100 * val_time_seconds)\n",
    "\n",
    "x = dry[0]\n",
    "y = crunch[0]\n",
    "\n",
    "x_train = x[:train_samples]\n",
    "y_train = y[:train_samples]\n",
    "\n",
    "x_val = x[train_samples:train_samples+val_samples]\n",
    "y_val = y[train_samples:train_samples+val_samples]"
   ]
  },
  {
   "cell_type": "code",
   "execution_count": null,
   "id": "cc6e5f5e",
   "metadata": {},
   "outputs": [],
   "source": [
    "print(x_train.shape)\n",
    "print(y_train.shape)\n",
    "print(x_val.shape)\n",
    "print(y_val.shape)"
   ]
  },
  {
   "cell_type": "code",
   "execution_count": null,
   "id": "6f8ee854",
   "metadata": {},
   "outputs": [],
   "source": [
    "from train import train\n",
    "from models import LSTM"
   ]
  },
  {
   "cell_type": "code",
   "execution_count": null,
   "id": "4a708667",
   "metadata": {},
   "outputs": [],
   "source": [
    "model = LSTM(n_hidden=64,n_layers=1)\n",
    "optimizer = torch.optim.Adam(model.parameters(), lr=0.001)"
   ]
  },
  {
   "cell_type": "code",
   "execution_count": null,
   "id": "98bad789",
   "metadata": {},
   "outputs": [],
   "source": [
    "model = train(model,optimizer,x_train,y_train,x_val,y_val,10,100,200,64,'cpu','temporary','temporary')"
   ]
  },
  {
   "cell_type": "code",
   "execution_count": null,
   "id": "45222751",
   "metadata": {},
   "outputs": [],
   "source": [
    "import numpy as np"
   ]
  },
  {
   "cell_type": "code",
   "execution_count": null,
   "id": "b256c512",
   "metadata": {},
   "outputs": [],
   "source": [
    "scores = np.load('scores/test.npy')\n",
    "for e in range(10):\n",
    "    print('epoch: %d' % e)\n",
    "    print(\"tl: %f\" % scores[e][0])\n",
    "    print(\"vl: %f\" % scores[e][1])\n",
    "    print(\"tt: %f\" % scores[e][2])\n",
    "    print(\"vt: %f\" % scores[e][3])\n",
    "    print()"
   ]
  },
  {
   "cell_type": "code",
   "execution_count": null,
   "id": "fd096360",
   "metadata": {},
   "outputs": [],
   "source": []
  },
  {
   "cell_type": "code",
   "execution_count": null,
   "id": "236c9034",
   "metadata": {},
   "outputs": [],
   "source": [
    "import matplotlib.pyplot as plt"
   ]
  },
  {
   "cell_type": "code",
   "execution_count": null,
   "id": "2121cbe5",
   "metadata": {},
   "outputs": [],
   "source": [
    "plt.plot(range(10), scores[:,0],label='train')\n",
    "plt.plot(range(10), scores[:,1],label='val')\n",
    "plt.legend()\n",
    "plt.draw()\n",
    "plt.pause(0.05)"
   ]
  },
  {
   "cell_type": "code",
   "execution_count": null,
   "id": "81a6cf3a",
   "metadata": {},
   "outputs": [],
   "source": [
    "plt.plot(range(10), scores[:,2],label='tt')\n",
    "plt.legend()\n",
    "plt.draw()\n",
    "plt.pause(0.05)"
   ]
  },
  {
   "cell_type": "code",
   "execution_count": null,
   "id": "6810e71e",
   "metadata": {},
   "outputs": [],
   "source": [
    "plt.plot(range(10), scores[:,3]/1000000,label='vt')\n",
    "plt.legend()\n",
    "plt.draw()\n",
    "plt.pause(0.05)"
   ]
  }
 ],
 "metadata": {
  "kernelspec": {
   "display_name": "env",
   "language": "python",
   "name": "python3"
  },
  "language_info": {
   "codemirror_mode": {
    "name": "ipython",
    "version": 3
   },
   "file_extension": ".py",
   "mimetype": "text/x-python",
   "name": "python",
   "nbconvert_exporter": "python",
   "pygments_lexer": "ipython3",
   "version": "3.12.3"
  }
 },
 "nbformat": 4,
 "nbformat_minor": 5
}
