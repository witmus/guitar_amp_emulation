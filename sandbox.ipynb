{
 "cells": [
  {
   "cell_type": "code",
   "execution_count": null,
   "id": "f6a6bd47",
   "metadata": {},
   "outputs": [],
   "source": [
    "import torch\n",
    "import torch.nn as nn\n",
    "import torchaudio\n",
    "\n",
    "from audio import get_clean_tensor,get_crunch_tensor,get_distortion_tensor,normalize_tensor\n",
    "from utilities import plot_waveform\n",
    "\n",
    "dry = get_clean_tensor()\n",
    "dry = normalize_tensor(dry)\n",
    "# plot_waveform(dry)\n",
    "crunch = get_crunch_tensor()\n",
    "# plot_waveform(crunch)\n",
    "distortion = get_distortion_tensor()\n",
    "# plot_waveform(distortion)\n",
    "\n",
    "data_minutes = 5\n",
    "test_split_ratio = 0.2\n",
    "\n",
    "train_time_seconds = int(data_minutes * (1 - test_split_ratio) * 60)\n",
    "val_time_seconds = int(data_minutes * test_split_ratio * 60)\n",
    "train_samples = int(44_100 * train_time_seconds)\n",
    "val_samples = int(44_100 * val_time_seconds)\n",
    "\n",
    "x = dry[0]\n",
    "y = crunch[0]"
   ]
  },
  {
   "cell_type": "code",
   "execution_count": null,
   "id": "a747e093",
   "metadata": {},
   "outputs": [],
   "source": [
    "from sklearn.model_selection import KFold"
   ]
  },
  {
   "cell_type": "code",
   "execution_count": null,
   "id": "43c7ecfc",
   "metadata": {},
   "outputs": [],
   "source": [
    "x_train = x[:train_samples]\n",
    "y_train = y[:train_samples]\n",
    "\n",
    "x_val = x[train_samples:train_samples+val_samples]\n",
    "y_val = y[train_samples:train_samples+val_samples]\n",
    "\n",
    "x_train = x_train.view(-1,200,1)\n",
    "y_train = y_train.view(-1,200,1)"
   ]
  },
  {
   "cell_type": "code",
   "execution_count": null,
   "id": "931d7ec5",
   "metadata": {},
   "outputs": [],
   "source": [
    "from torch.utils.data import TensorDataset,DataLoader\n",
    "\n",
    "train_merged = TensorDataset(x_train,y_train)\n",
    "\n",
    "train_dataloader = DataLoader(train_merged, batch_size=100, shuffle=False)"
   ]
  },
  {
   "cell_type": "code",
   "execution_count": null,
   "id": "1b176519",
   "metadata": {},
   "outputs": [],
   "source": [
    "\n",
    "for batch_ndx, sample in enumerate(train_dataloader):\n",
    "    xx = sample[0]\n",
    "    print(xx.shape)\n",
    "    break\n",
    "    "
   ]
  },
  {
   "cell_type": "code",
   "execution_count": null,
   "id": "cc6e5f5e",
   "metadata": {},
   "outputs": [],
   "source": [
    "print(x_train.shape)\n",
    "print(y_train.shape)\n",
    "print(x_val.shape)\n",
    "print(y_val.shape)"
   ]
  },
  {
   "cell_type": "code",
   "execution_count": null,
   "id": "6f8ee854",
   "metadata": {},
   "outputs": [],
   "source": [
    "from train import train\n",
    "from models import LSTM"
   ]
  },
  {
   "cell_type": "code",
   "execution_count": null,
   "id": "4a708667",
   "metadata": {},
   "outputs": [],
   "source": [
    "model = LSTM(n_hidden=64,n_layers=1)\n",
    "optimizer = torch.optim.Adam(model.parameters(), lr=0.001)"
   ]
  },
  {
   "cell_type": "code",
   "execution_count": null,
   "id": "98bad789",
   "metadata": {},
   "outputs": [],
   "source": [
    "model = train(model,optimizer,x_train,y_train,x_val,y_val,10,100,200,64,'cuda','temporary/temp','temporary/')"
   ]
  },
  {
   "cell_type": "code",
   "execution_count": null,
   "id": "b256c512",
   "metadata": {},
   "outputs": [],
   "source": [
    "import numpy as np\n",
    "import matplotlib.pyplot as plt"
   ]
  },
  {
   "cell_type": "code",
   "execution_count": null,
   "id": "b891b726",
   "metadata": {},
   "outputs": [],
   "source": [
    "batch_sizes = [100,200,300,400,500]\n",
    "steps_nums = [100,200,300]\n",
    "epochs = 25\n",
    "\n",
    "for sn in steps_nums:\n",
    "    for bs in batch_sizes:\n",
    "        if (bs == 400 and sn == 300) or (bs == 500 and sn > 100):\n",
    "            continue\n",
    "\n",
    "        path = 'scores/batch_sizes/bs_' + str(bs) + '_ns_' + str(sn) + '.npy'\n",
    "        scores = np.load(path)\n",
    "        tl = scores[:,0]\n",
    "        plt.plot(range(epochs), tl,label=f'bs={bs}, ns={sn}')\n",
    "    plt.title(f'train loss, num_steps={sn}')\n",
    "    plt.legend()\n",
    "    plt.savefig(f'plots/train_loss_num_steps_{sn}.png')\n",
    "    # plt.draw()\n",
    "    plt.pause(0.05)"
   ]
  },
  {
   "cell_type": "code",
   "execution_count": null,
   "id": "08eade4a",
   "metadata": {},
   "outputs": [],
   "source": [
    "batch_sizes = [100,200,300,400,500]\n",
    "steps_nums = [100,200,300]\n",
    "epochs = 25\n",
    "\n",
    "for sn in steps_nums:\n",
    "    for bs in batch_sizes:\n",
    "        if (bs == 400 and sn == 300) or (bs == 500 and sn > 100):\n",
    "            continue\n",
    "\n",
    "        path = 'scores/batch_sizes/bs_' + str(bs) + '_ns_' + str(sn) + '.npy'\n",
    "        scores = np.load(path)\n",
    "        vl = scores[:,1]\n",
    "        plt.plot(range(epochs), vl,label=f'bs={bs}, ns={sn}')\n",
    "    plt.title(f'test loss, num_steps={sn}')\n",
    "    plt.legend()\n",
    "    plt.savefig(f'plots/test_loss_num_steps_{sn}.png')\n",
    "    # plt.draw()\n",
    "    plt.pause(0.05)"
   ]
  },
  {
   "cell_type": "code",
   "execution_count": null,
   "id": "112d559a",
   "metadata": {},
   "outputs": [],
   "source": [
    "layers = [1,2]\n",
    "hidden_sizes = [64,128,256]\n",
    "epochs = 25\n",
    "\n",
    "for layer in layers:\n",
    "    for hidden_size in hidden_sizes:\n",
    "        lstm_path = 'scores/grid_search/gs_lstm_' + str(layer) + '_' + str(hidden_size) + '.npy'\n",
    "        sc_path = 'scores/grid_search/gs_sc_' + str(layer) + '_' + str(hidden_size) + '.npy'\n",
    "        dc_path = 'scores/grid_search/gs_dc_' + str(layer) + '_' + str(hidden_size) + '.npy'\n",
    "        lstm_scores = np.load(lstm_path)\n",
    "        sc_scores = np.load(sc_path)\n",
    "        dc_scores = np.load(dc_path)\n",
    "        lstm_tl = lstm_scores[:,0]\n",
    "        sc_tl = sc_scores[:,0]\n",
    "        dc_tl = dc_scores[:,0]\n",
    "        plt.plot(range(epochs), lstm_tl,label='lstm')\n",
    "        plt.plot(range(epochs), sc_tl,label='singleConv')\n",
    "        plt.plot(range(epochs), dc_tl,label='doubleConv')\n",
    "        plt.title(f'train loss, layers={layer},hidden_size={hidden_size}')\n",
    "        plt.legend()\n",
    "        plt.savefig(f'plots/train_loss_gs_{layer}_{hidden_size}.png')\n",
    "        plt.draw()\n",
    "        plt.pause(0.05)"
   ]
  },
  {
   "cell_type": "code",
   "execution_count": null,
   "id": "0a71e367",
   "metadata": {},
   "outputs": [],
   "source": [
    "layers = [1,2]\n",
    "hidden_sizes = [64,128,256]\n",
    "epochs = 25\n",
    "\n",
    "for layer in layers:\n",
    "    for hidden_size in hidden_sizes:\n",
    "        lstm_path = 'scores/grid_search/gs_lstm_' + str(layer) + '_' + str(hidden_size) + '.npy'\n",
    "        sc_path = 'scores/grid_search/gs_sc_' + str(layer) + '_' + str(hidden_size) + '.npy'\n",
    "        dc_path = 'scores/grid_search/gs_dc_' + str(layer) + '_' + str(hidden_size) + '.npy'\n",
    "        lstm_scores = np.load(lstm_path)\n",
    "        sc_scores = np.load(sc_path)\n",
    "        dc_scores = np.load(dc_path)\n",
    "        lstm_tl = lstm_scores[:,1]\n",
    "        sc_tl = sc_scores[:,1]\n",
    "        dc_tl = dc_scores[:,1]\n",
    "        plt.plot(range(epochs), lstm_tl,label='lstm')\n",
    "        plt.plot(range(epochs), sc_tl,label='singleConv')\n",
    "        plt.plot(range(epochs), dc_tl,label='doubleConv')\n",
    "        plt.title(f'test loss, layers={layer},hidden_size={hidden_size}')\n",
    "        plt.legend()\n",
    "        plt.savefig(f'plots/test_loss_gs_{layer}_{hidden_size}.png')\n",
    "        plt.draw()\n",
    "        plt.pause(0.05)"
   ]
  },
  {
   "cell_type": "code",
   "execution_count": null,
   "id": "62495729",
   "metadata": {},
   "outputs": [],
   "source": [
    "layers = [1,2]\n",
    "hidden_sizes = [64,128,256]\n",
    "epochs = 25\n",
    "lstm_mean_times = {}\n",
    "sc_mean_times = {}\n",
    "dc_mean_times = {}\n",
    "for layer in layers:\n",
    "    for hidden_size in hidden_sizes:\n",
    "        lstm_path = 'scores/grid_search/gs_lstm_' + str(layer) + '_' + str(hidden_size) + '.npy'\n",
    "        sc_path = 'scores/grid_search/gs_sc_' + str(layer) + '_' + str(hidden_size) + '.npy'\n",
    "        dc_path = 'scores/grid_search/gs_dc_' + str(layer) + '_' + str(hidden_size) + '.npy'\n",
    "        lstm_scores = np.load(lstm_path)\n",
    "        sc_scores = np.load(sc_path)\n",
    "        dc_scores = np.load(dc_path)\n",
    "        lstm_mt = lstm_scores[:,2]\n",
    "        sc_mt = sc_scores[:,2]\n",
    "        dc_mt = dc_scores[:,2]\n",
    "\n",
    "        lstm_mean_times.update({f'layer={layer} hidden={hidden_size}':np.mean(lstm_mt)})\n",
    "        sc_mean_times.update({f'layer={layer} hidden={hidden_size}':np.mean(sc_mt)})\n",
    "        dc_mean_times.update({f'layer={layer} hidden={hidden_size}':np.mean(dc_mt)})\n",
    "\n",
    "print(lstm_mean_times)\n",
    "print(sc_mean_times)\n",
    "print(dc_mean_times)\n",
    "\n"
   ]
  },
  {
   "cell_type": "code",
   "execution_count": null,
   "id": "62f7817c",
   "metadata": {},
   "outputs": [],
   "source": [
    "x = range(6)\n",
    "\n",
    "y = list(lstm_mean_times.values())\n",
    "plt.scatter(x,y)\n",
    "\n",
    "for i,v in enumerate(list(lstm_mean_times.keys())):\n",
    "        plt.annotate('lstm ' + v,(x[i],y[i]))\n",
    "plt.title('lstm mean time per epoch [s]')\n",
    "# plt.savefig('plots/bs_tpe.png')\n",
    "plt.draw()\n",
    "plt.pause(0.05)"
   ]
  },
  {
   "cell_type": "code",
   "execution_count": null,
   "id": "ea413e9b",
   "metadata": {},
   "outputs": [],
   "source": [
    "y = list(sc_mean_times.values())\n",
    "# plt.bar(x,y)\n",
    "plt.scatter(x,y)\n",
    "\n",
    "for i,v in enumerate(list(sc_mean_times.keys())):\n",
    "        plt.annotate('sc ' + v,(x[i],y[i]))\n",
    "plt.title('singleConv mean time per epoch [s]')\n",
    "# plt.savefig('plots/bs_tpe.png')\n",
    "plt.draw()\n",
    "plt.pause(0.05)"
   ]
  },
  {
   "cell_type": "code",
   "execution_count": null,
   "id": "40bde17a",
   "metadata": {},
   "outputs": [],
   "source": [
    "y = list(dc_mean_times.values())\n",
    "plt.scatter(x,y)\n",
    "\n",
    "for i,v in enumerate(list(dc_mean_times.keys())):\n",
    "        plt.annotate('dc ' + v,(x[i],y[i]))\n",
    "plt.title('doubleConv mean time per epoch [s]')\n",
    "# plt.savefig('plots/bs_tpe.png')\n",
    "plt.draw()\n",
    "plt.pause(0.05)"
   ]
  },
  {
   "cell_type": "code",
   "execution_count": null,
   "id": "a074b07a",
   "metadata": {},
   "outputs": [],
   "source": [
    "batch_sizes = [100,200,300,400,500]\n",
    "steps_nums = [100,200,300]\n",
    "epochs = 25\n",
    "mean_times = {}\n",
    "for sn in steps_nums:\n",
    "    for bs in batch_sizes:\n",
    "        if (bs == 400 and sn == 300) or (bs == 500 and sn > 100):\n",
    "            continue\n",
    "\n",
    "        path = 'scores/batch_sizes/bs_' + str(bs) + '_ns_' + str(sn) + '.npy'\n",
    "        scores = np.load(path)\n",
    "        et = scores[:,2]\n",
    "        mean_times.update({f'ns={sn} bs={bs}':np.mean(et)})\n",
    "\n",
    "# print(mean_times)\n",
    "x = range(12)\n",
    "y = list(mean_times.values())\n",
    "# plt.bar(x,y)\n",
    "plt.scatter(x,y)\n",
    "\n",
    "for i,v in enumerate(list(mean_times.keys())):\n",
    "        plt.annotate(v,(x[i],y[i]))\n",
    "plt.title('mean time per epoch [s]')\n",
    "plt.savefig('plots/bs_tpe.png')\n",
    "plt.pause(0.05)"
   ]
  }
 ],
 "metadata": {
  "kernelspec": {
   "display_name": "env",
   "language": "python",
   "name": "python3"
  },
  "language_info": {
   "codemirror_mode": {
    "name": "ipython",
    "version": 3
   },
   "file_extension": ".py",
   "mimetype": "text/x-python",
   "name": "python",
   "nbconvert_exporter": "python",
   "pygments_lexer": "ipython3",
   "version": "3.12.3"
  }
 },
 "nbformat": 4,
 "nbformat_minor": 5
}
