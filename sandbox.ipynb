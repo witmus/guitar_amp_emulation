{
 "cells": [
  {
   "cell_type": "code",
   "execution_count": null,
   "id": "f6a6bd47",
   "metadata": {},
   "outputs": [],
   "source": [
    "import torch\n",
    "import torch.nn as nn\n",
    "import torchaudio\n",
    "from typing import Sequence\n",
    "import numpy as np\n",
    "from audio import get_clean_tensor,get_crunch_tensor,get_distortion_tensor,normalize_tensor\n",
    "from utilities import plot_waveform\n",
    "\n",
    "dry = get_clean_tensor()\n",
    "dry = normalize_tensor(dry)\n",
    "# plot_waveform(dry)\n",
    "crunch = get_crunch_tensor()\n",
    "# plot_waveform(crunch)\n",
    "distortion = get_distortion_tensor()\n",
    "# plot_waveform(distortion)\n",
    "\n",
    "data_minutes = 5\n",
    "test_split_ratio = 0.2\n",
    "\n",
    "train_time_seconds = int(data_minutes * (1 - test_split_ratio) * 60)\n",
    "val_time_seconds = int(data_minutes * test_split_ratio * 60)\n",
    "train_samples = int(44_100 * train_time_seconds)\n",
    "val_samples = int(44_100 * val_time_seconds)\n",
    "\n",
    "x = dry[0]\n",
    "y = crunch[0]"
   ]
  }
 ],
 "metadata": {
  "kernelspec": {
   "display_name": "env",
   "language": "python",
   "name": "python3"
  },
  "language_info": {
   "codemirror_mode": {
    "name": "ipython",
    "version": 3
   },
   "file_extension": ".py",
   "mimetype": "text/x-python",
   "name": "python",
   "nbconvert_exporter": "python",
   "pygments_lexer": "ipython3",
   "version": "3.12.3"
  }
 },
 "nbformat": 4,
 "nbformat_minor": 5
}
